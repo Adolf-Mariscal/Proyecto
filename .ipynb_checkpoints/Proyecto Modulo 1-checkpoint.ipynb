{
 "cells": [
  {
   "cell_type": "markdown",
   "metadata": {},
   "source": [
    "<h1 style=\"color:blue\"> PROYECTO 1. Corrección de Curvas </h1>\n",
    " \n",
    "### Simulación Matemática\n",
    "### Profesor: Cristian Zapata\n",
    "### Integrantes : \n",
    "+ Estephanie Mendivil \n",
    "+ Adolfo Mriscal \n",
    "+ Francisco Gonzalez"
   ]
  },
  {
   "cell_type": "markdown",
   "metadata": {},
   "source": [
    "I. <Strong><font color=\"green\">Introducción </font> </Strong> "
   ]
  },
  {
   "cell_type": "markdown",
   "metadata": {},
   "source": [
    "![Alt text](https://i1.wp.com/www.sopitas.com/wp-content/uploads/2019/04/interjet.jpg)"
   ]
  },
  {
   "cell_type": "markdown",
   "metadata": {},
   "source": [
    "> <p style='text-align: justify;'> \n",
    "En ciencias e ingeniería es frecuente que un experimento\n",
    "produzca un conjunto de datos $$(x_1, y_1)\\dots (x_N, y_N).$$\n",
    "siendo las abcisas $$({x_K})$$distintas entre sí.\n",
    "\n",
    "</p>"
   ]
  },
  {
   "cell_type": "markdown",
   "metadata": {},
   "source": [
    "> <p style='text-align: justify;'> \n",
    "Uno de los objetivos del cálculo numérico es la\n",
    "determinación de una fórmula $$ y = f(x)$$ que relacione las\n",
    "variables (ajustar una curva a datos experimentales).\n",
    "</p>"
   ]
  },
  {
   "cell_type": "markdown",
   "metadata": {},
   "source": [
    "> <p style='text-align: justify;'> \n",
    "Normalmente se dispone de una serie de fórmulas\n",
    "previamente establecidas, y lo que hay que hallar son los\n",
    "valores más adecuados de unos coeficientes o unos\n",
    "parámetros para estas fórmulas.</p>"
   ]
  },
  {
   "cell_type": "markdown",
   "metadata": {},
   "source": [
    "II. <Strong><font color=\"green\"> Planteamiento del Problema </font> </Strong>"
   ]
  },
  {
   "cell_type": "markdown",
   "metadata": {},
   "source": [
    "> <p style='text-align: justify;'> Para el proyecto elegimos las salidas registradas de transporte desde los aeropuertos, decidimos centrarnos en México y es necesario polinomio que mejor se ajuste por medio del algoritmo programado, así podremos realizar estimaciones para años futuros y poder prever la cantidad de pasajeros en años futuros\n",
    "\n",
    "</p>"
   ]
  },
  {
   "cell_type": "code",
   "execution_count": null,
   "metadata": {},
   "outputs": [],
   "source": []
  }
 ],
 "metadata": {
  "kernelspec": {
   "display_name": "Python 3",
   "language": "python",
   "name": "python3"
  },
  "language_info": {
   "codemirror_mode": {
    "name": "ipython",
    "version": 3
   },
   "file_extension": ".py",
   "mimetype": "text/x-python",
   "name": "python",
   "nbconvert_exporter": "python",
   "pygments_lexer": "ipython3",
   "version": "3.7.1"
  }
 },
 "nbformat": 4,
 "nbformat_minor": 2
}
